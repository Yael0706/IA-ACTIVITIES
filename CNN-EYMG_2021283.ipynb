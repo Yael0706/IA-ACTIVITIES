{
  "nbformat": 4,
  "nbformat_minor": 0,
  "metadata": {
    "colab": {
      "provenance": [],
      "authorship_tag": "ABX9TyPXq6TeHTRUy5qDg6ujzMax",
      "include_colab_link": true
    },
    "kernelspec": {
      "name": "python3",
      "display_name": "Python 3"
    },
    "language_info": {
      "name": "python"
    }
  },
  "cells": [
    {
      "cell_type": "markdown",
      "metadata": {
        "id": "view-in-github",
        "colab_type": "text"
      },
      "source": [
        "<a href=\"https://colab.research.google.com/github/Yael0706/IA-ACTIVITIES/blob/main/Assignment_7_Convolutional_Neural_Network_EYMG_2021283.ipynb\" target=\"_parent\"><img src=\"https://colab.research.google.com/assets/colab-badge.svg\" alt=\"Open In Colab\"/></a>"
      ]
    },
    {
      "cell_type": "markdown",
      "source": [
        "Assignment 7 Convolutional Neural Network\n",
        "N4-N6\n",
        "Edgar Yael Moreno Garcia 2021283"
      ],
      "metadata": {
        "id": "cKF-xiDxHFvJ"
      }
    },
    {
      "cell_type": "markdown",
      "source": [
        "Load libraries"
      ],
      "metadata": {
        "id": "HFRsnl25eizp"
      }
    },
    {
      "cell_type": "code",
      "execution_count": null,
      "metadata": {
        "id": "MwOUQkejXPOD"
      },
      "outputs": [],
      "source": [
        "#Edgar Yael Moreno Garcia 2021283\n",
        "import tensorflow as tf\n",
        "from tensorflow.keras.models import Sequential\n",
        "from tensorflow.keras.layers import Conv2D, MaxPooling2D, Flatten, Dense, Dropout\n",
        "from tensorflow.keras.datasets import mnist\n",
        "from tensorflow.keras.utils import to_categorical"
      ]
    },
    {
      "cell_type": "markdown",
      "source": [
        "Load Data"
      ],
      "metadata": {
        "id": "lfBi3W_EeqTY"
      }
    },
    {
      "cell_type": "code",
      "source": [
        "(train_data, train_labels), (test_data, test_labels) = mnist.load_data()\n",
        "\n",
        "\n",
        "train_data = train_data.reshape(train_data.shape[0], 28, 28, 1).astype('float32') / 255\n",
        "test_data = test_data.reshape(test_data.shape[0], 28, 28, 1).astype('float32') / 255\n",
        "\n",
        "\n",
        "train_labels = to_categorical(train_labels, 10)\n",
        "test_labels = to_categorical(test_labels, 10)"
      ],
      "metadata": {
        "colab": {
          "base_uri": "https://localhost:8080/"
        },
        "id": "UuOImMlAer2r",
        "outputId": "eaff4c47-96c9-4389-d61e-c29d8fb0ac34"
      },
      "execution_count": null,
      "outputs": [
        {
          "output_type": "stream",
          "name": "stdout",
          "text": [
            "Downloading data from https://storage.googleapis.com/tensorflow/tf-keras-datasets/mnist.npz\n",
            "\u001b[1m11490434/11490434\u001b[0m \u001b[32m━━━━━━━━━━━━━━━━━━━━\u001b[0m\u001b[37m\u001b[0m \u001b[1m0s\u001b[0m 0us/step\n"
          ]
        }
      ]
    },
    {
      "cell_type": "markdown",
      "source": [
        "Model seleccion and training"
      ],
      "metadata": {
        "id": "IH3YCbAVesN_"
      }
    },
    {
      "cell_type": "code",
      "source": [
        "model = Sequential([\n",
        "    Conv2D(32, (3, 3), activation='relu', input_shape=(28, 28, 1)),\n",
        "    MaxPooling2D(pool_size=(2, 2)),\n",
        "    Conv2D(64, (3, 3), activation='relu'),\n",
        "    MaxPooling2D(pool_size=(2, 2)),\n",
        "    Flatten(),\n",
        "    Dense(128, activation='relu'),\n",
        "    Dropout(0.5),\n",
        "    Dense(10, activation='softmax')\n",
        "])\n",
        "\n",
        "\n",
        "model.compile(optimizer='adam', loss='categorical_crossentropy', metrics=['accuracy'])\n",
        "\n",
        "history = model.fit(train_data, train_labels, epochs=10, batch_size=32, validation_data=(test_data, test_labels))\n"
      ],
      "metadata": {
        "colab": {
          "base_uri": "https://localhost:8080/"
        },
        "id": "1uuhDxLnesnq",
        "outputId": "05033459-e1bb-4721-e73f-a333e04ee32a"
      },
      "execution_count": null,
      "outputs": [
        {
          "output_type": "stream",
          "name": "stderr",
          "text": [
            "/usr/local/lib/python3.10/dist-packages/keras/src/layers/convolutional/base_conv.py:107: UserWarning: Do not pass an `input_shape`/`input_dim` argument to a layer. When using Sequential models, prefer using an `Input(shape)` object as the first layer in the model instead.\n",
            "  super().__init__(activity_regularizer=activity_regularizer, **kwargs)\n"
          ]
        },
        {
          "output_type": "stream",
          "name": "stdout",
          "text": [
            "Epoch 1/10\n",
            "\u001b[1m1875/1875\u001b[0m \u001b[32m━━━━━━━━━━━━━━━━━━━━\u001b[0m\u001b[37m\u001b[0m \u001b[1m64s\u001b[0m 33ms/step - accuracy: 0.8652 - loss: 0.4279 - val_accuracy: 0.9852 - val_loss: 0.0448\n",
            "Epoch 2/10\n",
            "\u001b[1m1875/1875\u001b[0m \u001b[32m━━━━━━━━━━━━━━━━━━━━\u001b[0m\u001b[37m\u001b[0m \u001b[1m75s\u001b[0m 29ms/step - accuracy: 0.9745 - loss: 0.0832 - val_accuracy: 0.9866 - val_loss: 0.0363\n",
            "Epoch 3/10\n",
            "\u001b[1m1875/1875\u001b[0m \u001b[32m━━━━━━━━━━━━━━━━━━━━\u001b[0m\u001b[37m\u001b[0m \u001b[1m81s\u001b[0m 29ms/step - accuracy: 0.9822 - loss: 0.0575 - val_accuracy: 0.9900 - val_loss: 0.0291\n",
            "Epoch 4/10\n",
            "\u001b[1m1875/1875\u001b[0m \u001b[32m━━━━━━━━━━━━━━━━━━━━\u001b[0m\u001b[37m\u001b[0m \u001b[1m83s\u001b[0m 29ms/step - accuracy: 0.9869 - loss: 0.0445 - val_accuracy: 0.9910 - val_loss: 0.0292\n",
            "Epoch 5/10\n",
            "\u001b[1m1875/1875\u001b[0m \u001b[32m━━━━━━━━━━━━━━━━━━━━\u001b[0m\u001b[37m\u001b[0m \u001b[1m55s\u001b[0m 29ms/step - accuracy: 0.9880 - loss: 0.0389 - val_accuracy: 0.9916 - val_loss: 0.0254\n",
            "Epoch 6/10\n",
            "\u001b[1m1875/1875\u001b[0m \u001b[32m━━━━━━━━━━━━━━━━━━━━\u001b[0m\u001b[37m\u001b[0m \u001b[1m57s\u001b[0m 30ms/step - accuracy: 0.9904 - loss: 0.0318 - val_accuracy: 0.9920 - val_loss: 0.0256\n",
            "Epoch 7/10\n",
            "\u001b[1m1875/1875\u001b[0m \u001b[32m━━━━━━━━━━━━━━━━━━━━\u001b[0m\u001b[37m\u001b[0m \u001b[1m80s\u001b[0m 29ms/step - accuracy: 0.9912 - loss: 0.0293 - val_accuracy: 0.9921 - val_loss: 0.0242\n",
            "Epoch 8/10\n",
            "\u001b[1m1875/1875\u001b[0m \u001b[32m━━━━━━━━━━━━━━━━━━━━\u001b[0m\u001b[37m\u001b[0m \u001b[1m83s\u001b[0m 29ms/step - accuracy: 0.9925 - loss: 0.0235 - val_accuracy: 0.9922 - val_loss: 0.0237\n",
            "Epoch 9/10\n",
            "\u001b[1m1875/1875\u001b[0m \u001b[32m━━━━━━━━━━━━━━━━━━━━\u001b[0m\u001b[37m\u001b[0m \u001b[1m81s\u001b[0m 29ms/step - accuracy: 0.9921 - loss: 0.0242 - val_accuracy: 0.9913 - val_loss: 0.0367\n",
            "Epoch 10/10\n",
            "\u001b[1m1875/1875\u001b[0m \u001b[32m━━━━━━━━━━━━━━━━━━━━\u001b[0m\u001b[37m\u001b[0m \u001b[1m82s\u001b[0m 29ms/step - accuracy: 0.9931 - loss: 0.0211 - val_accuracy: 0.9922 - val_loss: 0.0286\n"
          ]
        }
      ]
    },
    {
      "cell_type": "markdown",
      "source": [
        "Model testing"
      ],
      "metadata": {
        "id": "XS8wFP9KfBFv"
      }
    },
    {
      "cell_type": "code",
      "source": [
        "test_loss, test_acc = model.evaluate(test_data, test_labels, verbose=2)\n",
        "print(f\"Test accuracy: {test_acc}\")\n",
        "\n",
        "\n",
        "import numpy as np\n",
        "predictions = model.predict(test_data[:5])\n",
        "\n",
        "for i in range(5):\n",
        "    print(f\"Predicted: {np.argmax(predictions[i])}, Actual: {np.argmax(test_labels[i])}\")"
      ],
      "metadata": {
        "colab": {
          "base_uri": "https://localhost:8080/"
        },
        "id": "b8MT1mo0fBj8",
        "outputId": "67fe155e-b9bb-43a1-b0bf-cdee4557de55"
      },
      "execution_count": null,
      "outputs": [
        {
          "output_type": "stream",
          "name": "stdout",
          "text": [
            "313/313 - 2s - 8ms/step - accuracy: 0.9922 - loss: 0.0286\n",
            "Test accuracy: 0.9922000169754028\n",
            "\u001b[1m1/1\u001b[0m \u001b[32m━━━━━━━━━━━━━━━━━━━━\u001b[0m\u001b[37m\u001b[0m \u001b[1m0s\u001b[0m 118ms/step\n",
            "Predicted: 7, Actual: 7\n",
            "Predicted: 2, Actual: 2\n",
            "Predicted: 1, Actual: 1\n",
            "Predicted: 0, Actual: 0\n",
            "Predicted: 4, Actual: 4\n"
          ]
        }
      ]
    },
    {
      "cell_type": "markdown",
      "source": [
        "**How many epochs did you use to improve the performance of the model compared with the feedforward neural network of assignment 6?**\n",
        "\n",
        "In this assignment i use the same number of epochs as the assignment 6"
      ],
      "metadata": {
        "id": "x2Isf7ovvesF"
      }
    },
    {
      "cell_type": "markdown",
      "source": [
        "**Did you get a better performance on this assignment or on assignment 6? Why?**\n",
        "\n",
        "I used the same values because I followed a tutorial. I thought it would be easier to work with 10 epochs instead of waiting longer with 50, so I did it more for convenience."
      ],
      "metadata": {
        "id": "sx79eLG9vskH"
      }
    }
  ]
}
